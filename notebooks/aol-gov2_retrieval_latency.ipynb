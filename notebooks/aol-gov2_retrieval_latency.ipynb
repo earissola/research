{
 "cells": [
  {
   "cell_type": "code",
   "execution_count": 1,
   "metadata": {
    "collapsed": true,
    "deletable": true,
    "editable": true
   },
   "outputs": [],
   "source": [
    "# -*- coding: utf-8 -*-\n",
    "import pandas as pd\n",
    "import numpy as np\n",
    "import bisect\n",
    "import sys\n",
    "\n",
    "%matplotlib inline\n",
    "from matplotlib import pyplot as plt\n",
    "from matplotlib.ticker import MultipleLocator\n",
    "from matplotlib import cm\n",
    "\n",
    "pd.set_option('display.float_format', lambda x: '%.10f' % x)"
   ]
  },
  {
   "cell_type": "code",
   "execution_count": 12,
   "metadata": {
    "collapsed": false,
    "deletable": true,
    "editable": true
   },
   "outputs": [],
   "source": [
    "inputDataHybrid = pd.read_csv('../data/aol-gov2_retrieval_hybrid.txt.gz', sep=';', compression='gzip', header=None)\n",
    "inputDataPFD = pd.read_csv('../data/aol-gov2_retrieval_pfd.txt.gz', sep=';', compression='gzip', header=None)\n",
    "\n",
    "inputDataHybrid.columns = ['queryNo', 'latency', 'len', 'hybrid']\n",
    "inputDataPFD.columns = ['queryNo', 'latency', 'len']"
   ]
  },
  {
   "cell_type": "code",
   "execution_count": 14,
   "metadata": {
    "collapsed": false,
    "deletable": true,
    "editable": true
   },
   "outputs": [
    {
     "data": {
      "text/html": [
       "<div>\n",
       "<table border=\"1\" class=\"dataframe\">\n",
       "  <thead>\n",
       "    <tr style=\"text-align: right;\">\n",
       "      <th></th>\n",
       "      <th>queryNo</th>\n",
       "      <th>latency</th>\n",
       "      <th>len</th>\n",
       "    </tr>\n",
       "  </thead>\n",
       "  <tbody>\n",
       "    <tr>\n",
       "      <th>count</th>\n",
       "      <td>18000.0000000000</td>\n",
       "      <td>18000.0000000000</td>\n",
       "      <td>18000.0000000000</td>\n",
       "    </tr>\n",
       "    <tr>\n",
       "      <th>mean</th>\n",
       "      <td>9000.5000000000</td>\n",
       "      <td>0.0109643464</td>\n",
       "      <td>3.1157222222</td>\n",
       "    </tr>\n",
       "    <tr>\n",
       "      <th>std</th>\n",
       "      <td>5196.2967582693</td>\n",
       "      <td>0.0147863950</td>\n",
       "      <td>1.3180728341</td>\n",
       "    </tr>\n",
       "    <tr>\n",
       "      <th>min</th>\n",
       "      <td>1.0000000000</td>\n",
       "      <td>0.0000070000</td>\n",
       "      <td>2.0000000000</td>\n",
       "    </tr>\n",
       "    <tr>\n",
       "      <th>25%</th>\n",
       "      <td>4500.7500000000</td>\n",
       "      <td>0.0016667500</td>\n",
       "      <td>2.0000000000</td>\n",
       "    </tr>\n",
       "    <tr>\n",
       "      <th>50%</th>\n",
       "      <td>9000.5000000000</td>\n",
       "      <td>0.0053970000</td>\n",
       "      <td>3.0000000000</td>\n",
       "    </tr>\n",
       "    <tr>\n",
       "      <th>75%</th>\n",
       "      <td>13500.2500000000</td>\n",
       "      <td>0.0142722500</td>\n",
       "      <td>4.0000000000</td>\n",
       "    </tr>\n",
       "    <tr>\n",
       "      <th>max</th>\n",
       "      <td>18000.0000000000</td>\n",
       "      <td>0.2937580000</td>\n",
       "      <td>27.0000000000</td>\n",
       "    </tr>\n",
       "  </tbody>\n",
       "</table>\n",
       "</div>"
      ],
      "text/plain": [
       "               queryNo          latency              len\n",
       "count 18000.0000000000 18000.0000000000 18000.0000000000\n",
       "mean   9000.5000000000     0.0109643464     3.1157222222\n",
       "std    5196.2967582693     0.0147863950     1.3180728341\n",
       "min       1.0000000000     0.0000070000     2.0000000000\n",
       "25%    4500.7500000000     0.0016667500     2.0000000000\n",
       "50%    9000.5000000000     0.0053970000     3.0000000000\n",
       "75%   13500.2500000000     0.0142722500     4.0000000000\n",
       "max   18000.0000000000     0.2937580000    27.0000000000"
      ]
     },
     "execution_count": 14,
     "metadata": {},
     "output_type": "execute_result"
    }
   ],
   "source": [
    "inputDataPFD.describe()"
   ]
  },
  {
   "cell_type": "code",
   "execution_count": 15,
   "metadata": {
    "collapsed": false
   },
   "outputs": [
    {
     "data": {
      "text/html": [
       "<div>\n",
       "<table border=\"1\" class=\"dataframe\">\n",
       "  <thead>\n",
       "    <tr style=\"text-align: right;\">\n",
       "      <th></th>\n",
       "      <th>queryNo</th>\n",
       "      <th>latency</th>\n",
       "      <th>len</th>\n",
       "    </tr>\n",
       "  </thead>\n",
       "  <tbody>\n",
       "    <tr>\n",
       "      <th>count</th>\n",
       "      <td>18000.0000000000</td>\n",
       "      <td>18000.0000000000</td>\n",
       "      <td>18000.0000000000</td>\n",
       "    </tr>\n",
       "    <tr>\n",
       "      <th>mean</th>\n",
       "      <td>9000.5000000000</td>\n",
       "      <td>0.0151955069</td>\n",
       "      <td>3.1157222222</td>\n",
       "    </tr>\n",
       "    <tr>\n",
       "      <th>std</th>\n",
       "      <td>5196.2967582693</td>\n",
       "      <td>0.0207151380</td>\n",
       "      <td>1.3180728341</td>\n",
       "    </tr>\n",
       "    <tr>\n",
       "      <th>min</th>\n",
       "      <td>1.0000000000</td>\n",
       "      <td>0.0000090000</td>\n",
       "      <td>2.0000000000</td>\n",
       "    </tr>\n",
       "    <tr>\n",
       "      <th>25%</th>\n",
       "      <td>4500.7500000000</td>\n",
       "      <td>0.0021090000</td>\n",
       "      <td>2.0000000000</td>\n",
       "    </tr>\n",
       "    <tr>\n",
       "      <th>50%</th>\n",
       "      <td>9000.5000000000</td>\n",
       "      <td>0.0073170000</td>\n",
       "      <td>3.0000000000</td>\n",
       "    </tr>\n",
       "    <tr>\n",
       "      <th>75%</th>\n",
       "      <td>13500.2500000000</td>\n",
       "      <td>0.0199742500</td>\n",
       "      <td>4.0000000000</td>\n",
       "    </tr>\n",
       "    <tr>\n",
       "      <th>max</th>\n",
       "      <td>18000.0000000000</td>\n",
       "      <td>0.4189760000</td>\n",
       "      <td>27.0000000000</td>\n",
       "    </tr>\n",
       "  </tbody>\n",
       "</table>\n",
       "</div>"
      ],
      "text/plain": [
       "               queryNo          latency              len\n",
       "count 18000.0000000000 18000.0000000000 18000.0000000000\n",
       "mean   9000.5000000000     0.0151955069     3.1157222222\n",
       "std    5196.2967582693     0.0207151380     1.3180728341\n",
       "min       1.0000000000     0.0000090000     2.0000000000\n",
       "25%    4500.7500000000     0.0021090000     2.0000000000\n",
       "50%    9000.5000000000     0.0073170000     3.0000000000\n",
       "75%   13500.2500000000     0.0199742500     4.0000000000\n",
       "max   18000.0000000000     0.4189760000    27.0000000000"
      ]
     },
     "execution_count": 15,
     "metadata": {},
     "output_type": "execute_result"
    }
   ],
   "source": [
    "inputDataHybrid.describe()"
   ]
  },
  {
   "cell_type": "code",
   "execution_count": 60,
   "metadata": {
    "collapsed": false
   },
   "outputs": [
    {
     "data": {
      "text/plain": [
       "<matplotlib.legend.Legend at 0x10bfd5890>"
      ]
     },
     "execution_count": 60,
     "metadata": {},
     "output_type": "execute_result"
    },
    {
     "data": {
      "image/png": "[encoded data removed]",
      "text/plain": [
       "<matplotlib.figure.Figure at 0x109715a10>"
      ]
     },
     "metadata": {},
     "output_type": "display_data"
    }
   ],
   "source": [
    "# Plot queries average latency according to len(query) #\n",
    "dataHybrid = inputDataHybrid.groupby('len').latency.mean()\n",
    "dataPFD = inputDataPFD.groupby('len').latency.mean()\n",
    "#inputDataPFD.groupby('len').latency.count()\n",
    "\n",
    "figure, ax = plt.subplots()\n",
    "# Tickers #\n",
    "min_x = MultipleLocator(1)\n",
    "max_x = MultipleLocator(4)\n",
    "min_y = MultipleLocator(0.01)\n",
    "max_y = MultipleLocator(0.1)\n",
    "ax.xaxis.set_major_locator(max_x)\n",
    "ax.xaxis.set_minor_locator(min_x)\n",
    "ax.yaxis.set_major_locator(max_y)\n",
    "ax.yaxis.set_minor_locator(min_y)\n",
    "\n",
    "ax.plot(dataHybrid, marker='.', linestyle='--', label='Hybrid')\n",
    "ax.plot(dataPFD, marker='.', linestyle='--', label='PFD')\n",
    "ax.set_xlabel('Len')\n",
    "ax.set_ylabel('Average Latency (sec)')\n",
    "ax.yaxis.grid(True)\n",
    "#ax.set_xlim([2,12])\n",
    "#ax.set_ylim([0.0, 0.2])\n",
    "ax.legend()"
   ]
  },
  {
   "cell_type": "code",
   "execution_count": 51,
   "metadata": {
    "collapsed": false
   },
   "outputs": [
    {
     "data": {
      "text/plain": [
       "<matplotlib.axes._subplots.AxesSubplot at 0x10a3f1290>"
      ]
     },
     "execution_count": 51,
     "metadata": {},
     "output_type": "execute_result"
    },
    {
     "data": {
      "image/png": "[encoded data removed]",
      "text/plain": [
       "<matplotlib.figure.Figure at 0x10a027d50>"
      ]
     },
     "metadata": {},
     "output_type": "display_data"
    }
   ],
   "source": [
    "inputDataHybrid.boxplot('latency', 'len')"
   ]
  },
  {
   "cell_type": "code",
   "execution_count": 52,
   "metadata": {
    "collapsed": false,
    "deletable": true,
    "editable": true
   },
   "outputs": [
    {
     "data": {
      "text/plain": [
       "<matplotlib.axes._subplots.AxesSubplot at 0x10a027950>"
      ]
     },
     "execution_count": 52,
     "metadata": {},
     "output_type": "execute_result"
    },
    {
     "data": {
      "image/png": "[encoded data removed]",
      "text/plain": [
       "<matplotlib.figure.Figure at 0x10a0c0710>"
      ]
     },
     "metadata": {},
     "output_type": "display_data"
    }
   ],
   "source": [
    "inputDataPFD.boxplot('latency', 'len')"
   ]
  },
  {
   "cell_type": "code",
   "execution_count": 74,
   "metadata": {
    "collapsed": false
   },
   "outputs": [
    {
     "name": "stdout",
     "output_type": "stream",
     "text": [
      "          Hybrid          PFD\n",
      "len                          \n",
      "2   0.0059196221 0.0043339527\n",
      "3   0.0130064487 0.0094306792\n",
      "4   0.0208745761 0.0150540513\n",
      "5   0.0319751392 0.0229275047\n",
      "6   0.0437142000 0.0312189345\n",
      "7   0.0612538899 0.0437132615\n",
      "8   0.0758495000 0.0539911429\n",
      "9   0.0867525417 0.0614807917\n",
      "10  0.1077684762 0.0762191905\n",
      "11  0.1231526667 0.0874825556\n",
      "12  0.0899800000 0.0636483333\n",
      "13  0.1495450000 0.1058582000\n",
      "14  0.2162070000 0.1506420000\n",
      "15  0.2772785000 0.1944180000\n",
      "18  0.2609400000 0.1835930000\n",
      "19  0.1552510000 0.1086600000\n",
      "27  0.4189760000 0.2937580000\n"
     ]
    }
   ],
   "source": [
    "latencyAVG = pd.concat([dataHybrid, dataPFD], axis=1)\n",
    "latencyAVG.columns = ['Hybrid', 'PFD']\n",
    "print latencyAVG"
   ]
  },
  {
   "cell_type": "code",
   "execution_count": null,
   "metadata": {
    "collapsed": true
   },
   "outputs": [],
   "source": []
  }
 ],
 "metadata": {
  "kernelspec": {
   "display_name": "Python 2",
   "language": "python",
   "name": "python2"
  },
  "language_info": {
   "codemirror_mode": {
    "name": "ipython",
    "version": 2
   },
   "file_extension": ".py",
   "mimetype": "text/x-python",
   "name": "python",
   "nbconvert_exporter": "python",
   "pygments_lexer": "ipython2",
   "version": "2.7.13"
  }
 },
 "nbformat": 4,
 "nbformat_minor": 1
}
