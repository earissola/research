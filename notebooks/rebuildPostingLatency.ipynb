{
 "cells": [
  {
   "cell_type": "code",
   "execution_count": 1,
   "metadata": {
    "collapsed": true,
    "deletable": true,
    "editable": true
   },
   "outputs": [],
   "source": [
    "# -*- coding: utf-8 -*-\n",
    "import pandas as pd\n",
    "import numpy as np\n",
    "import bisect\n",
    "import sys\n",
    "\n",
    "%matplotlib inline\n",
    "from matplotlib import pyplot as plt\n",
    "from matplotlib.ticker import MultipleLocator\n",
    "from matplotlib import cm\n",
    "\n",
    "pd.set_option('display.float_format', lambda x: '%.10f' % x)"
   ]
  },
  {
   "cell_type": "code",
   "execution_count": 2,
   "metadata": {
    "collapsed": false,
    "deletable": true,
    "editable": true
   },
   "outputs": [],
   "source": [
    "inputData = pd.read_csv('../data/rebuildPostingLatency.csv.gz', sep=';', compression='gzip')"
   ]
  },
  {
   "cell_type": "code",
   "execution_count": 3,
   "metadata": {
    "collapsed": false,
    "deletable": true,
    "editable": true
   },
   "outputs": [
    {
     "data": {
      "text/html": [
       "<div>\n",
       "<table border=\"1\" class=\"dataframe\">\n",
       "  <thead>\n",
       "    <tr style=\"text-align: right;\">\n",
       "      <th></th>\n",
       "      <th>TermNo</th>\n",
       "      <th>DF</th>\n",
       "      <th>#Ones</th>\n",
       "      <th>PFD</th>\n",
       "      <th>Hyb</th>\n",
       "      <th>Hyb_Disk</th>\n",
       "      <th>Hyb_PFD</th>\n",
       "      <th>Hyb_Merge</th>\n",
       "    </tr>\n",
       "  </thead>\n",
       "  <tbody>\n",
       "    <tr>\n",
       "      <th>count</th>\n",
       "      <td>794518.0000000000</td>\n",
       "      <td>794518.0000000000</td>\n",
       "      <td>794518.0000000000</td>\n",
       "      <td>794518.0000000000</td>\n",
       "      <td>794518.0000000000</td>\n",
       "      <td>794518.0000000000</td>\n",
       "      <td>794518.0000000000</td>\n",
       "      <td>794518.0000000000</td>\n",
       "    </tr>\n",
       "    <tr>\n",
       "      <th>mean</th>\n",
       "      <td>531521.0601119169</td>\n",
       "      <td>7437.4889857750</td>\n",
       "      <td>4418.7816588170</td>\n",
       "      <td>0.0000326379</td>\n",
       "      <td>0.0000452144</td>\n",
       "      <td>0.0000192711</td>\n",
       "      <td>0.0000023798</td>\n",
       "      <td>0.0000235635</td>\n",
       "    </tr>\n",
       "    <tr>\n",
       "      <th>std</th>\n",
       "      <td>367906.3847269715</td>\n",
       "      <td>110959.9305186796</td>\n",
       "      <td>86465.7510926582</td>\n",
       "      <td>0.0002854447</td>\n",
       "      <td>0.0004558973</td>\n",
       "      <td>0.0001256243</td>\n",
       "      <td>0.0000121673</td>\n",
       "      <td>0.0003299287</td>\n",
       "    </tr>\n",
       "    <tr>\n",
       "      <th>min</th>\n",
       "      <td>0.0000000000</td>\n",
       "      <td>100.0000000000</td>\n",
       "      <td>1.0000000000</td>\n",
       "      <td>0.0000010000</td>\n",
       "      <td>0.0000000000</td>\n",
       "      <td>0.0000000000</td>\n",
       "      <td>0.0000000000</td>\n",
       "      <td>0.0000000000</td>\n",
       "    </tr>\n",
       "    <tr>\n",
       "      <th>25%</th>\n",
       "      <td>198853.2500000000</td>\n",
       "      <td>149.0000000000</td>\n",
       "      <td>18.0000000000</td>\n",
       "      <td>0.0000040000</td>\n",
       "      <td>0.0000030000</td>\n",
       "      <td>0.0000020000</td>\n",
       "      <td>0.0000010000</td>\n",
       "      <td>0.0000010000</td>\n",
       "    </tr>\n",
       "    <tr>\n",
       "      <th>50%</th>\n",
       "      <td>398313.5000000000</td>\n",
       "      <td>272.0000000000</td>\n",
       "      <td>47.0000000000</td>\n",
       "      <td>0.0000060000</td>\n",
       "      <td>0.0000050000</td>\n",
       "      <td>0.0000030000</td>\n",
       "      <td>0.0000010000</td>\n",
       "      <td>0.0000010000</td>\n",
       "    </tr>\n",
       "    <tr>\n",
       "      <th>75%</th>\n",
       "      <td>905429.7500000000</td>\n",
       "      <td>776.0000000000</td>\n",
       "      <td>150.0000000000</td>\n",
       "      <td>0.0000120000</td>\n",
       "      <td>0.0000120000</td>\n",
       "      <td>0.0000080000</td>\n",
       "      <td>0.0000020000</td>\n",
       "      <td>0.0000030000</td>\n",
       "    </tr>\n",
       "    <tr>\n",
       "      <th>max</th>\n",
       "      <td>1107204.0000000000</td>\n",
       "      <td>13059642.0000000000</td>\n",
       "      <td>11398025.0000000000</td>\n",
       "      <td>0.0474760000</td>\n",
       "      <td>0.0491210000</td>\n",
       "      <td>0.0094640000</td>\n",
       "      <td>0.0008510000</td>\n",
       "      <td>0.0389810000</td>\n",
       "    </tr>\n",
       "  </tbody>\n",
       "</table>\n",
       "</div>"
      ],
      "text/plain": [
       "                  TermNo                  DF               #Ones  \\\n",
       "count  794518.0000000000   794518.0000000000   794518.0000000000   \n",
       "mean   531521.0601119169     7437.4889857750     4418.7816588170   \n",
       "std    367906.3847269715   110959.9305186796    86465.7510926582   \n",
       "min         0.0000000000      100.0000000000        1.0000000000   \n",
       "25%    198853.2500000000      149.0000000000       18.0000000000   \n",
       "50%    398313.5000000000      272.0000000000       47.0000000000   \n",
       "75%    905429.7500000000      776.0000000000      150.0000000000   \n",
       "max   1107204.0000000000 13059642.0000000000 11398025.0000000000   \n",
       "\n",
       "                    PFD               Hyb          Hyb_Disk           Hyb_PFD  \\\n",
       "count 794518.0000000000 794518.0000000000 794518.0000000000 794518.0000000000   \n",
       "mean       0.0000326379      0.0000452144      0.0000192711      0.0000023798   \n",
       "std        0.0002854447      0.0004558973      0.0001256243      0.0000121673   \n",
       "min        0.0000010000      0.0000000000      0.0000000000      0.0000000000   \n",
       "25%        0.0000040000      0.0000030000      0.0000020000      0.0000010000   \n",
       "50%        0.0000060000      0.0000050000      0.0000030000      0.0000010000   \n",
       "75%        0.0000120000      0.0000120000      0.0000080000      0.0000020000   \n",
       "max        0.0474760000      0.0491210000      0.0094640000      0.0008510000   \n",
       "\n",
       "              Hyb_Merge  \n",
       "count 794518.0000000000  \n",
       "mean       0.0000235635  \n",
       "std        0.0003299287  \n",
       "min        0.0000000000  \n",
       "25%        0.0000010000  \n",
       "50%        0.0000010000  \n",
       "75%        0.0000030000  \n",
       "max        0.0389810000  "
      ]
     },
     "execution_count": 3,
     "metadata": {},
     "output_type": "execute_result"
    }
   ],
   "source": [
    "inputData.describe()"
   ]
  },
  {
   "cell_type": "code",
   "execution_count": 4,
   "metadata": {
    "collapsed": false,
    "deletable": true,
    "editable": true
   },
   "outputs": [
    {
     "data": {
      "text/plain": [
       "(0, 0.0001)"
      ]
     },
     "execution_count": 4,
     "metadata": {},
     "output_type": "execute_result"
    },
    {
     "data": {
      "image/png": "[encoded data removed]",
      "text/plain": [
       "<matplotlib.figure.Figure at 0x108eeb710>"
      ]
     },
     "metadata": {},
     "output_type": "display_data"
    }
   ],
   "source": [
    "figure, ax = plt.subplots()\n",
    "\n",
    "lims = [\n",
    "    np.min([ax.get_xlim(), ax.get_ylim()]),  # min of both axes\n",
    "    np.max([ax.get_xlim(), ax.get_ylim()]),  # max of both axes\n",
    "]\n",
    "\n",
    "ax.scatter(inputData['PFD'], inputData['Hyb'])\n",
    "ax.plot(lims, lims, 'k-', alpha=0.75, zorder=0)\n",
    "ax.set_xlabel('PFD')\n",
    "ax.set_ylabel('Hyb')\n",
    "ax.set_xlim((0,0.0001))\n",
    "ax.set_ylim((0,0.0001))"
   ]
  },
  {
   "cell_type": "code",
   "execution_count": 5,
   "metadata": {
    "collapsed": false,
    "deletable": true,
    "editable": true
   },
   "outputs": [
    {
     "name": "stdout",
     "output_type": "stream",
     "text": [
      "0.932964987184\n"
     ]
    }
   ],
   "source": [
    "inputData['onesRatio'] = ((inputData['#Ones'] / inputData['DF']) * 100).round().astype(\"uint32\")\n",
    "inputData['winLoseRatio'] = inputData['Hyb'] / inputData['PFD']\n",
    "print inputData[\"winLoseRatio\"].mean()"
   ]
  },
  {
   "cell_type": "code",
   "execution_count": 6,
   "metadata": {
    "collapsed": false,
    "deletable": true,
    "editable": true
   },
   "outputs": [
    {
     "name": "stdout",
     "output_type": "stream",
     "text": [
      "Index([u'TermNo', u'DF', u'#Ones', u'PFD', u'Hyb', u'Hyb_Disk', u'Hyb_PFD',\n",
      "       u'Hyb_Merge', u'onesRatio', u'winLoseRatio'],\n",
      "      dtype='object')\n"
     ]
    }
   ],
   "source": [
    "print inputData.columns"
   ]
  },
  {
   "cell_type": "code",
   "execution_count": 7,
   "metadata": {
    "collapsed": false,
    "deletable": true,
    "editable": true,
    "scrolled": true
   },
   "outputs": [
    {
     "name": "stdout",
     "output_type": "stream",
     "text": [
      "0.932964987184\n",
      "[ 0.86170962  1.15508513  1.33563232  1.51657264  1.59675765  1.44181954]\n"
     ]
    }
   ],
   "source": [
    "# Por longitud de Lista, organizada en bins, análisis ganancia-perdida (Tabla) #\n",
    "\n",
    "# Max Postings List Lenght: 13,059,642 #\n",
    "# [0,10^3), [10^3,10^4), [10^4,10^5), [10^5,10^6), [10^6,10^7), [10^7,10^8) #\n",
    "logBins = np.logspace(3.0, 8, num=6, dtype=np.uint64)\n",
    "proportionBins = np.arange(10, 100, 10)\n",
    "binCount_winLoseRatio_per_Li = np.zeros(6, dtype=np.uint64)\n",
    "binCount_winLoseRatio_per_OnesRatio = np.zeros((6, 10), dtype=np.uint64)\n",
    "mean_winLoseRatio_perLi = np.zeros(6, dtype=np.float64)\n",
    "mean_winLoseRatio_per_OnesRatio = np.zeros((6, 10), dtype=np.float64)\n",
    "winLoseRatio_for_boxPlot= [[] for bin in logBins]\n",
    "\n",
    "# Interval Type [) #\n",
    "for row in inputData.values:\n",
    "    Li_Len = row[1] # Longitud de la Lista (# de entradas - DF)\n",
    "    indexLi = bisect.bisect_right(logBins, Li_Len)\n",
    "    binCount_winLoseRatio_per_Li[indexLi] += 1\n",
    "    mean_winLoseRatio_perLi[indexLi] += row[9]\n",
    "    winLoseRatio_for_boxPlot[indexLi].append(row[9])\n",
    "    indexOnesRatio = bisect.bisect_right(proportionBins, row[8])\n",
    "    binCount_winLoseRatio_per_OnesRatio[indexLi, indexOnesRatio] += 1\n",
    "    mean_winLoseRatio_per_OnesRatio[indexLi, indexOnesRatio] += row[9]\n",
    "\n",
    "print mean_winLoseRatio_perLi.sum() / inputData.shape[0]\n",
    "mean_winLoseRatio_perLi = mean_winLoseRatio_perLi / binCount_winLoseRatio_per_Li\n",
    "assert inputData.shape[0] == binCount_winLoseRatio_per_Li.sum()\n",
    "print mean_winLoseRatio_perLi"
   ]
  },
  {
   "cell_type": "code",
   "execution_count": 11,
   "metadata": {
    "collapsed": false,
    "deletable": true,
    "editable": true
   },
   "outputs": [
    {
     "name": "stderr",
     "output_type": "stream",
     "text": [
      "/Users/earissola/virtualenv/lib/python2.7/site-packages/ipykernel/__main__.py:3: RuntimeWarning: invalid value encountered in divide\n",
      "  app.launch_new_instance()\n"
     ]
    }
   ],
   "source": [
    "#np.seterr(invalid='ignore')\n",
    "for i, row in enumerate(mean_winLoseRatio_per_OnesRatio):\n",
    "    mean_winLoseRatio_per_OnesRatio[i] = np.nan_to_num(np.divide(row, binCount_winLoseRatio_per_OnesRatio[i]))"
   ]
  },
  {
   "cell_type": "code",
   "execution_count": 12,
   "metadata": {
    "collapsed": false,
    "deletable": true,
    "editable": true
   },
   "outputs": [
    {
     "name": "stdout",
     "output_type": "stream",
     "text": [
      "PLML Mean Win/Lose(Row)\t 10%\t20%\t30%\t40%\t50%\t60%\t70%\t80%\t90%\n",
      "0 0.8617096193  0.879  0.904  0.911  0.849  0.808  0.755  0.694  0.628  0.530  0.420 \n",
      "1 1.1550851339  1.165  1.146  1.158  1.233  1.261  1.170  1.134  1.098  1.008  0.846 \n",
      "1 1.3356323154  1.306  1.304  1.340  1.363  1.373  1.368  1.333  1.340  1.311  1.297 \n",
      "1 1.5165726423  2.300  1.423  1.496  1.541  1.577  1.561  1.529  1.496  1.475  1.446 \n",
      "1 1.5967576513  0.000  0.000  0.000  1.809  1.773  1.726  1.662  1.579  1.469  1.313 \n",
      "1 1.4418195415  0.000  0.000  0.000  0.000  0.000  0.000  0.000  0.000  1.455  1.429 \n"
     ]
    }
   ],
   "source": [
    "#Posting List Max Lenght\n",
    "print \"PLML Mean Win/Lose(Row)\\t 10%\\t20%\\t30%\\t40%\\t50%\\t60%\\t70%\\t80%\\t90%\"\n",
    "for i, mean in enumerate(mean_winLoseRatio_perLi):\n",
    "    sys.stdout.write(\"%i %.10f \" % (mean_winLoseRatio_perLi[i], mean))\n",
    "    for mean_row in mean_winLoseRatio_per_OnesRatio[i]:\n",
    "        sys.stdout.write(\" %.3f \" % (mean_row))\n",
    "    sys.stdout.write(\"\\n\")\n",
    "#Ganacia/Perdida "
   ]
  },
  {
   "cell_type": "code",
   "execution_count": 34,
   "metadata": {
    "collapsed": false,
    "deletable": true,
    "editable": true
   },
   "outputs": [
    {
     "data": {
      "text/plain": [
       "{'boxes': [<matplotlib.lines.Line2D at 0x1128e86d0>],\n",
       " 'caps': [<matplotlib.lines.Line2D at 0x1128ce610>,\n",
       "  <matplotlib.lines.Line2D at 0x1128cec50>],\n",
       " 'fliers': [<matplotlib.lines.Line2D at 0x1128db910>],\n",
       " 'means': [],\n",
       " 'medians': [<matplotlib.lines.Line2D at 0x1128db2d0>],\n",
       " 'whiskers': [<matplotlib.lines.Line2D at 0x1128e8890>,\n",
       "  <matplotlib.lines.Line2D at 0x1128e8f90>]}"
      ]
     },
     "execution_count": 34,
     "metadata": {},
     "output_type": "execute_result"
    },
    {
     "data": {
      "image/png": "[encoded data removed]",
      "text/plain": [
       "<matplotlib.figure.Figure at 0x10d90e1d0>"
      ]
     },
     "metadata": {},
     "output_type": "display_data"
    }
   ],
   "source": [
    "data = []\n",
    "data.append(np.array(inputData[inputData['DF'] < logBins[0]]['winLoseRatio']))\n",
    "#data.append(np.array(inputData[(inputData['DF'] < logBins[1] && inputData[inputData['DF'] >= logBins[0]])]['winLoseRatio']))\n",
    "#data.append(np.array(inputData[inputData['DF'] < logBins[2]]['winLoseRatio']))\n",
    "#data.append(np.array(inputData[inputData['DF'] < logBins[3]]['winLoseRatio']))\n",
    "#data.append(np.array(inputData[inputData['DF'] < logBins[4]]['winLoseRatio']))\n",
    "#data.append(np.array(inputData[inputData['DF'] < logBins[5]]['winLoseRatio']))\n",
    "\n",
    "figure, ax = plt.subplots()\n",
    "ax.boxplot(data)\n"
   ]
  },
  {
   "cell_type": "code",
   "execution_count": null,
   "metadata": {
    "collapsed": true
   },
   "outputs": [],
   "source": []
  }
 ],
 "metadata": {
  "kernelspec": {
   "display_name": "Python 2",
   "language": "python",
   "name": "python2"
  },
  "language_info": {
   "codemirror_mode": {
    "name": "ipython",
    "version": 2
   },
   "file_extension": ".py",
   "mimetype": "text/x-python",
   "name": "python",
   "nbconvert_exporter": "python",
   "pygments_lexer": "ipython2",
   "version": "2.7.13"
  }
 },
 "nbformat": 4,
 "nbformat_minor": 1
}
